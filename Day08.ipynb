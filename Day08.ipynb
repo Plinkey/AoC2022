{
  "nbformat": 4,
  "nbformat_minor": 0,
  "metadata": {
    "colab": {
      "provenance": [],
      "authorship_tag": "ABX9TyMikaBqV/u2Csbil1lHOQqQ",
      "include_colab_link": true
    },
    "kernelspec": {
      "name": "python3",
      "display_name": "Python 3"
    },
    "language_info": {
      "name": "python"
    }
  },
  "cells": [
    {
      "cell_type": "markdown",
      "metadata": {
        "id": "view-in-github",
        "colab_type": "text"
      },
      "source": [
        "<a href=\"https://colab.research.google.com/github/Plinkey/AoC2022/blob/main/Day08.ipynb\" target=\"_parent\"><img src=\"https://colab.research.google.com/assets/colab-badge.svg\" alt=\"Open In Colab\"/></a>"
      ]
    },
    {
      "cell_type": "code",
      "execution_count": 114,
      "metadata": {
        "id": "8mEdJuUY6L0D"
      },
      "outputs": [],
      "source": [
        "import numpy as np\n",
        "example = False\n",
        "if example:\n",
        "    inputFile = 'Day08.example'\n",
        "else:\n",
        "    inputFile = 'Day08.input'\n",
        "\n",
        "with open(inputFile, 'r') as f:\n",
        "    rawdata = f.read().splitlines()\n",
        "data = []\n",
        "for line in rawdata:\n",
        "    row = []\n",
        "    for char in line:\n",
        "        row.append(int(char))\n",
        "    data.append(row)"
      ]
    },
    {
      "cell_type": "code",
      "source": [],
      "metadata": {
        "id": "OjMzbUV06R2v"
      },
      "execution_count": 114,
      "outputs": []
    },
    {
      "cell_type": "code",
      "source": [
        "data"
      ],
      "metadata": {
        "colab": {
          "base_uri": "https://localhost:8080/"
        },
        "id": "BsZ4Otaf644X",
        "outputId": "7c055ffb-3012-41e6-98f6-2a692d404ea3"
      },
      "execution_count": 98,
      "outputs": [
        {
          "output_type": "execute_result",
          "data": {
            "text/plain": [
              "[[3, 0, 3, 7, 3],\n",
              " [2, 5, 5, 1, 2],\n",
              " [6, 5, 3, 3, 2],\n",
              " [3, 3, 5, 4, 9],\n",
              " [3, 5, 3, 9, 0]]"
            ]
          },
          "metadata": {},
          "execution_count": 98
        }
      ]
    },
    {
      "cell_type": "code",
      "source": [],
      "metadata": {
        "id": "wUllzsms6gtU"
      },
      "execution_count": 98,
      "outputs": []
    },
    {
      "cell_type": "markdown",
      "source": [
        "Create mask.  1 = visible from outside, 0 = not visible (or unknown)"
      ],
      "metadata": {
        "id": "4-IDpBCT687E"
      }
    },
    {
      "cell_type": "code",
      "source": [
        "mask = []\n",
        "for line in data:\n",
        "    row = []\n",
        "    for tree in line:\n",
        "        row.append(0)\n",
        "    mask.append(row)\n",
        "\n",
        "for idx,_ in enumerate(mask):\n",
        "    for jdx,_ in enumerate(mask[idx]):\n",
        "        if idx == 0:\n",
        "            mask[idx][jdx] = 1\n",
        "        elif idx == len(mask)-1:\n",
        "            mask[idx][jdx] = 1\n",
        "        elif jdx == 0:\n",
        "            mask[idx][jdx] = 1\n",
        "        elif jdx == len(mask[0])-1:\n",
        "            mask[idx][jdx] = 1\n",
        "\n"
      ],
      "metadata": {
        "id": "x4gY1BiW7KFW"
      },
      "execution_count": 115,
      "outputs": []
    },
    {
      "cell_type": "code",
      "source": [
        "len(mask[0])"
      ],
      "metadata": {
        "colab": {
          "base_uri": "https://localhost:8080/"
        },
        "id": "USxSSztf7QCk",
        "outputId": "6a8e7fb3-4e62-495a-85ba-3182d67fb1ae"
      },
      "execution_count": 116,
      "outputs": [
        {
          "output_type": "execute_result",
          "data": {
            "text/plain": [
              "99"
            ]
          },
          "metadata": {},
          "execution_count": 116
        }
      ]
    },
    {
      "cell_type": "code",
      "source": [
        "mask"
      ],
      "metadata": {
        "colab": {
          "base_uri": "https://localhost:8080/"
        },
        "id": "v_TkuwbR7QY3",
        "outputId": "e6959661-800a-4f65-9ec8-79d632b71bdc"
      },
      "execution_count": 101,
      "outputs": [
        {
          "output_type": "execute_result",
          "data": {
            "text/plain": [
              "[[1, 1, 1, 1, 1],\n",
              " [1, 0, 0, 0, 1],\n",
              " [1, 0, 0, 0, 1],\n",
              " [1, 0, 0, 0, 1],\n",
              " [1, 1, 1, 1, 1]]"
            ]
          },
          "metadata": {},
          "execution_count": 101
        }
      ]
    },
    {
      "cell_type": "code",
      "source": [
        "def checkNorth(row, column):\n",
        "    curValue = data[row][column]\n",
        "    others = []\n",
        "    counter = row - 1\n",
        "    while counter >= 0:\n",
        "        others.append(data[counter][column])\n",
        "        counter -= 1\n",
        "    if all(x < curValue for x in others):\n",
        "        return True\n",
        "    else:\n",
        "        return False"
      ],
      "metadata": {
        "id": "AB9wKtMrXNGN"
      },
      "execution_count": 102,
      "outputs": []
    },
    {
      "cell_type": "code",
      "source": [
        "def checkWest(row, column):\n",
        "    curValue = data[row][column]\n",
        "    others = []\n",
        "    counter = column - 1\n",
        "    while counter >= 0:\n",
        "        others.append(data[row][counter])\n",
        "        counter -= 1\n",
        "    if all(x < curValue for x in others):\n",
        "        return True\n",
        "    else:\n",
        "        return False"
      ],
      "metadata": {
        "id": "r8vq3nzYX5-8"
      },
      "execution_count": 103,
      "outputs": []
    },
    {
      "cell_type": "code",
      "source": [
        "def checkEast(row, column):\n",
        "    curValue = data[row][column]\n",
        "    others = []\n",
        "    counter = column + 1\n",
        "    while counter < len(data[row]):\n",
        "        others.append(data[row][counter])\n",
        "        counter += 1\n",
        "    if all(x < curValue for x in others):\n",
        "        return True\n",
        "    else:\n",
        "        return False"
      ],
      "metadata": {
        "id": "1Zxgk942YHZz"
      },
      "execution_count": 104,
      "outputs": []
    },
    {
      "cell_type": "code",
      "source": [
        "def checkSouth(row,column):\n",
        "    curValue = data[row][column]\n",
        "    others = []\n",
        "    counter = row + 1\n",
        "    while counter < len(data):\n",
        "        others.append(data[counter][column])\n",
        "        counter += 1\n",
        "    if all(x < curValue for x in others):\n",
        "        return True\n",
        "    else:\n",
        "        return False"
      ],
      "metadata": {
        "id": "tLJP_l23YPoE"
      },
      "execution_count": 105,
      "outputs": []
    },
    {
      "cell_type": "code",
      "source": [
        "def checkAll(row, column):\n",
        "    if checkNorth(row, column):\n",
        "        if checkWest(row, column):\n",
        "            if checkEast(row, column):\n",
        "                if checkSouth(row,column):\n",
        "                    return True\n",
        "    else:\n",
        "        return False"
      ],
      "metadata": {
        "id": "iyFZ-27yYYK8"
      },
      "execution_count": 106,
      "outputs": []
    },
    {
      "cell_type": "code",
      "source": [
        "def checkAny(row, column):\n",
        "    if checkNorth(row, column):\n",
        "        return True\n",
        "    elif checkWest(row,column):\n",
        "        return True\n",
        "    elif checkEast(row, column):\n",
        "        return True\n",
        "    elif checkSouth(row, column):\n",
        "        return True\n",
        "    else:\n",
        "        return False"
      ],
      "metadata": {
        "id": "UDQ-qLQeYqM7"
      },
      "execution_count": 107,
      "outputs": []
    },
    {
      "cell_type": "code",
      "source": [
        "def countVis():\n",
        "    count = 0\n",
        "    for idx,_ in enumerate(mask):\n",
        "        for jdx,_ in enumerate(mask[idx]):\n",
        "            if mask[idx][jdx] == 1:\n",
        "                count += 1\n",
        "    return count"
      ],
      "metadata": {
        "id": "HErm5XDdZ23a"
      },
      "execution_count": 108,
      "outputs": []
    },
    {
      "cell_type": "code",
      "source": [
        "for idx,_ in enumerate(data):\n",
        "    for jdx,_ in enumerate(data[idx]):\n",
        "        if idx == 0:\n",
        "            continue\n",
        "        elif idx == len(data)-1:\n",
        "            continue\n",
        "        elif jdx == 0:\n",
        "            continue\n",
        "        elif jdx == len(data[idx]) - 1:\n",
        "            continue\n",
        "        elif checkAny(idx, jdx):\n",
        "            mask[idx][jdx] = 1"
      ],
      "metadata": {
        "id": "Qs9d305yY4f4"
      },
      "execution_count": 117,
      "outputs": []
    },
    {
      "cell_type": "code",
      "source": [
        "checkAny(1,1)"
      ],
      "metadata": {
        "colab": {
          "base_uri": "https://localhost:8080/"
        },
        "id": "QfVP3B48ZRww",
        "outputId": "f5bc0577-7edf-46d8-bc2a-f99b3637e58a"
      },
      "execution_count": 110,
      "outputs": [
        {
          "output_type": "execute_result",
          "data": {
            "text/plain": [
              "True"
            ]
          },
          "metadata": {},
          "execution_count": 110
        }
      ]
    },
    {
      "cell_type": "code",
      "source": [
        "data"
      ],
      "metadata": {
        "colab": {
          "base_uri": "https://localhost:8080/"
        },
        "id": "rNahRWDpZSEY",
        "outputId": "f91d0c5a-296c-4cc1-d30b-be606539c1d8"
      },
      "execution_count": 111,
      "outputs": [
        {
          "output_type": "execute_result",
          "data": {
            "text/plain": [
              "[[3, 0, 3, 7, 3],\n",
              " [2, 5, 5, 1, 2],\n",
              " [6, 5, 3, 3, 2],\n",
              " [3, 3, 5, 4, 9],\n",
              " [3, 5, 3, 9, 0]]"
            ]
          },
          "metadata": {},
          "execution_count": 111
        }
      ]
    },
    {
      "cell_type": "code",
      "source": [
        "mask"
      ],
      "metadata": {
        "colab": {
          "base_uri": "https://localhost:8080/"
        },
        "id": "dAiiPAZOZov4",
        "outputId": "85b6dbde-7fcf-4ae3-b6a0-fa34b6fc5f0f"
      },
      "execution_count": 112,
      "outputs": [
        {
          "output_type": "execute_result",
          "data": {
            "text/plain": [
              "[[1, 1, 1, 1, 1],\n",
              " [1, 1, 1, 0, 1],\n",
              " [1, 1, 0, 1, 1],\n",
              " [1, 0, 1, 0, 1],\n",
              " [1, 1, 1, 1, 1]]"
            ]
          },
          "metadata": {},
          "execution_count": 112
        }
      ]
    },
    {
      "cell_type": "code",
      "source": [
        "countVis()"
      ],
      "metadata": {
        "colab": {
          "base_uri": "https://localhost:8080/"
        },
        "id": "YjfektRwZ0px",
        "outputId": "1ce1d566-2c19-4a51-c693-bd83975c7f82"
      },
      "execution_count": 118,
      "outputs": [
        {
          "output_type": "execute_result",
          "data": {
            "text/plain": [
              "1695"
            ]
          },
          "metadata": {},
          "execution_count": 118
        }
      ]
    },
    {
      "cell_type": "code",
      "source": [
        "checkAny(3,3)"
      ],
      "metadata": {
        "colab": {
          "base_uri": "https://localhost:8080/"
        },
        "id": "i3obsqu_aHpS",
        "outputId": "dbde1013-77a5-4270-a381-c22f3ae27dd2"
      },
      "execution_count": 95,
      "outputs": [
        {
          "output_type": "execute_result",
          "data": {
            "text/plain": [
              "False"
            ]
          },
          "metadata": {},
          "execution_count": 95
        }
      ]
    },
    {
      "cell_type": "code",
      "source": [
        "all(x > 4 for x in a)"
      ],
      "metadata": {
        "colab": {
          "base_uri": "https://localhost:8080/"
        },
        "id": "4j5Ufy8QbLGX",
        "outputId": "5055ce15-56ed-4c9e-ffb8-18073fa9712c"
      },
      "execution_count": 63,
      "outputs": [
        {
          "output_type": "execute_result",
          "data": {
            "text/plain": [
              "False"
            ]
          },
          "metadata": {},
          "execution_count": 63
        }
      ]
    },
    {
      "cell_type": "code",
      "source": [
        "checkNorth(1,1)"
      ],
      "metadata": {
        "colab": {
          "base_uri": "https://localhost:8080/"
        },
        "id": "kCBonBVjbMOg",
        "outputId": "ce7293ea-2e98-4645-b6c2-77cd87dd6206"
      },
      "execution_count": 79,
      "outputs": [
        {
          "output_type": "stream",
          "name": "stdout",
          "text": [
            "[0] 5\n"
          ]
        },
        {
          "output_type": "execute_result",
          "data": {
            "text/plain": [
              "True"
            ]
          },
          "metadata": {},
          "execution_count": 79
        }
      ]
    },
    {
      "cell_type": "code",
      "source": [
        "checkNorth(3,3)"
      ],
      "metadata": {
        "colab": {
          "base_uri": "https://localhost:8080/"
        },
        "id": "7et6di1tbzxD",
        "outputId": "e239f0c5-48b8-4789-8d1c-4b4d3a53eb9b"
      },
      "execution_count": 80,
      "outputs": [
        {
          "output_type": "stream",
          "name": "stdout",
          "text": [
            "[3, 1, 7] 4\n"
          ]
        },
        {
          "output_type": "execute_result",
          "data": {
            "text/plain": [
              "False"
            ]
          },
          "metadata": {},
          "execution_count": 80
        }
      ]
    },
    {
      "cell_type": "code",
      "source": [
        "data[3][3]"
      ],
      "metadata": {
        "colab": {
          "base_uri": "https://localhost:8080/"
        },
        "id": "eUfdse6fb2PH",
        "outputId": "989beba0-c3fa-4b73-c5b4-3bd1be3ed7e0"
      },
      "execution_count": 74,
      "outputs": [
        {
          "output_type": "execute_result",
          "data": {
            "text/plain": [
              "4"
            ]
          },
          "metadata": {},
          "execution_count": 74
        }
      ]
    },
    {
      "cell_type": "code",
      "source": [
        "all(x < data[1][1] for x in [0])"
      ],
      "metadata": {
        "colab": {
          "base_uri": "https://localhost:8080/"
        },
        "id": "SpScpoWab7vS",
        "outputId": "c3ce9e1c-c562-4b77-a1c5-074ec77fe2c0"
      },
      "execution_count": 77,
      "outputs": [
        {
          "output_type": "execute_result",
          "data": {
            "text/plain": [
              "True"
            ]
          },
          "metadata": {},
          "execution_count": 77
        }
      ]
    },
    {
      "cell_type": "code",
      "source": [],
      "metadata": {
        "colab": {
          "base_uri": "https://localhost:8080/",
          "height": 165
        },
        "id": "ptsNNsWKcCIz",
        "outputId": "4773fe82-5bbc-4da9-eda8-f49909f6a18b"
      },
      "execution_count": 76,
      "outputs": [
        {
          "output_type": "error",
          "ename": "TypeError",
          "evalue": "ignored",
          "traceback": [
            "\u001b[0;31m---------------------------------------------------------------------------\u001b[0m",
            "\u001b[0;31mTypeError\u001b[0m                                 Traceback (most recent call last)",
            "\u001b[0;32m<ipython-input-76-8519274eb974>\u001b[0m in \u001b[0;36m<module>\u001b[0;34m\u001b[0m\n\u001b[0;32m----> 1\u001b[0;31m \u001b[0mdata\u001b[0m\u001b[0;34m(\u001b[0m\u001b[0;36m1\u001b[0m\u001b[0;34m,\u001b[0m\u001b[0;36m1\u001b[0m\u001b[0;34m)\u001b[0m\u001b[0;34m\u001b[0m\u001b[0;34m\u001b[0m\u001b[0m\n\u001b[0m",
            "\u001b[0;31mTypeError\u001b[0m: 'list' object is not callable"
          ]
        }
      ]
    },
    {
      "cell_type": "code",
      "source": [],
      "metadata": {
        "id": "EN0vqoeBcLG7"
      },
      "execution_count": null,
      "outputs": []
    }
  ]
}